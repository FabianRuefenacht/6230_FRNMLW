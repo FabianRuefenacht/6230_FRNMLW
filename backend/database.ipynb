{
 "cells": [
  {
   "cell_type": "code",
   "execution_count": 11,
   "metadata": {},
   "outputs": [],
   "source": [
    "import sqlite3\n",
    "\n",
    "# Verbindung zur Datenbank herstellen\n",
    "con = sqlite3.connect(\"Test.db\")\n",
    "cur = con.cursor()\n",
    "\n",
    "# Benutzertabelle erstellen\n",
    "cur.execute(\"\"\"CREATE TABLE IF NOT EXISTS users(\n",
    "            userId INTEGER PRIMARY KEY,\n",
    "            email TEXT UNIQUE,\n",
    "            password TEXT\n",
    "            )\"\"\")\n",
    "\n",
    "\n",
    "# Projektetabelle erstellen\n",
    "cur.execute(\"\"\"CREATE TABLE IF NOT EXISTS projects(\n",
    "            projectId INTEGER PRIMARY KEY,\n",
    "            creatorId INTEGER,\n",
    "            viewerId INTEGER,\n",
    "            projectName TEXT,\n",
    "            FOREIGN KEY(creatorId) REFERENCES users(userId),\n",
    "            FOREIGN KEY(viewerId) REFERENCES users(userId)\n",
    "            )\"\"\")\n",
    "\n",
    "cur.execute(\"\"\"CREATE TABLE IF NOT EXISTS sessions(\n",
    "            sessionId INTEGER PRIMARY KEY,\n",
    "            mainProjectId INTEGER,\n",
    "            sessionName TEXT,\n",
    "            FOREIGN KEY(mainProjectId) REFERENCES projects(projectId)\n",
    "            )\"\"\")\n",
    "\n",
    "cur.execute(\"\"\"CREATE TABLE IF NOT EXISTS points(\n",
    "            pointId INTEGER PRIMARY KEY,\n",
    "            name TEXT,\n",
    "            mainSessionId INTEGER,\n",
    "            E REAL,\n",
    "            N REAL,\n",
    "            H REAL,\n",
    "            FOREIGN KEY(mainSessionId) REFERENCES sessions(sessionId)\n",
    "            )\"\"\")\n",
    "con.commit()\n"
   ]
  },
  {
   "cell_type": "code",
   "execution_count": 12,
   "metadata": {},
   "outputs": [],
   "source": [
    "import sqlite3\n",
    "\n",
    "# Verbindung zur Datenbank herstellen\n",
    "con = sqlite3.connect(\"Test.db\")\n",
    "cur = con.cursor()\n",
    "\n",
    "# Beispiel-Datensatz einfügen\n",
    "cur.execute(\"INSERT INTO users (email, password) VALUES (?, ?)\", ('example@example.com', 'password123'))\n",
    "\n",
    "# Änderungen speichern und Verbindung schließen\n",
    "con.commit()\n",
    "con.close()\n"
   ]
  },
  {
   "cell_type": "code",
   "execution_count": null,
   "metadata": {},
   "outputs": [],
   "source": []
  }
 ],
 "metadata": {
  "kernelspec": {
   "display_name": "GeoInformatik",
   "language": "python",
   "name": "python3"
  },
  "language_info": {
   "codemirror_mode": {
    "name": "ipython",
    "version": 3
   },
   "file_extension": ".py",
   "mimetype": "text/x-python",
   "name": "python",
   "nbconvert_exporter": "python",
   "pygments_lexer": "ipython3",
   "version": "3.9.18"
  }
 },
 "nbformat": 4,
 "nbformat_minor": 2
}
